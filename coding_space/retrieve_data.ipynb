{
 "cells": [
  {
   "cell_type": "markdown",
   "id": "120e81dd",
   "metadata": {},
   "source": [
    "### Import Required Libraries and Set Up Environment Variables"
   ]
  },
  {
   "cell_type": "code",
   "execution_count": 1,
   "id": "0942bb42",
   "metadata": {},
   "outputs": [],
   "source": [
    "# Dependencies\n",
    "import requests\n",
    "import time\n",
    "from dotenv import load_dotenv\n",
    "import os\n",
    "import pandas as pd\n",
    "import json\n",
    "from datetime import datetime\n",
    "\n",
    "# Load the NASA_API_KEY from the env file\n",
    "load_dotenv()\n",
    "NASA_API_KEY = os.getenv('NASA_API_KEY')"
   ]
  },
  {
   "cell_type": "markdown",
   "id": "ce526158",
   "metadata": {},
   "source": [
    "### Retrieve CME Data"
   ]
  },
  {
   "cell_type": "code",
   "execution_count": 2,
   "id": "dcbe5d96",
   "metadata": {},
   "outputs": [],
   "source": [
    "# Set the base URL to NASA's DONKI API:\n",
    "base_url = \"https://api.nasa.gov/DONKI/\"\n",
    "\n",
    "# Set the specifier for CMEs:\n",
    "CME = \"CME\"\n",
    "\n",
    "# Search for CMEs published between a begin and end date\n",
    "startDate = \"2013-05-01\"\n",
    "endDate   = \"2024-05-01\"\n",
    "\n",
    "# Build URL for CME\n",
    "cme_url = f\"{base_url}{CME}?startDate={startDate}&endDate={endDate}&api_key={NASA_API_KEY}\""
   ]
  },
  {
   "cell_type": "code",
   "execution_count": 3,
   "id": "3421219b",
   "metadata": {},
   "outputs": [],
   "source": [
    "# Make a \"GET\" request for the CME URL and store it in a variable named cme_response\n",
    "cme_response = requests.get(cme_url)"
   ]
  },
  {
   "cell_type": "code",
   "execution_count": 4,
   "id": "8a6edeed",
   "metadata": {},
   "outputs": [],
   "source": [
    "# Convert the response variable to json and store it as a variable named cme_json\n",
    "cme_json = cme_response.json()"
   ]
  },
  {
   "cell_type": "code",
   "execution_count": 5,
   "id": "70204fc7",
   "metadata": {},
   "outputs": [
    {
     "name": "stdout",
     "output_type": "stream",
     "text": [
      "{\n",
      "    \"activityID\": \"2013-05-01T03:12:00-CME-001\",\n",
      "    \"catalog\": \"M2M_CATALOG\",\n",
      "    \"startTime\": \"2013-05-01T03:12Z\",\n",
      "    \"instruments\": [\n",
      "        {\n",
      "            \"displayName\": \"SOHO: LASCO/C2\"\n",
      "        },\n",
      "        {\n",
      "            \"displayName\": \"SOHO: LASCO/C3\"\n",
      "        },\n",
      "        {\n",
      "            \"displayName\": \"STEREO A: SECCHI/COR2\"\n",
      "        },\n",
      "        {\n",
      "            \"displayName\": \"STEREO B: SECCHI/COR2\"\n",
      "        }\n",
      "    ],\n",
      "    \"sourceLocation\": \"\",\n",
      "    \"activeRegionNum\": null,\n",
      "    \"note\": \"\",\n",
      "    \"submissionTime\": \"2013-08-07T16:54Z\",\n",
      "    \"versionId\": 1,\n",
      "    \"link\": \"https://webtools.ccmc.gsfc.nasa.gov/DONKI/view/CME/2349/-1\",\n",
      "    \"cmeAnalyses\": [\n",
      "        {\n",
      "            \"isMostAccurate\": true,\n",
      "            \"time21_5\": \"2013-05-01T07:07Z\",\n",
      "            \"latitude\": 12.0,\n",
      "            \"longitude\": -120.0,\n",
      "            \"halfAngle\": 36.0,\n",
      "            \"speed\": 860.0,\n",
      "            \"type\": \"C\",\n",
      "            \"featureCode\": \"null\",\n",
      "            \"imageType\": null,\n",
      "            \"measurementTechnique\": \"null\",\n",
      "            \"note\": \"\",\n",
      "            \"levelOfData\": 0,\n",
      "            \"tilt\": null,\n",
      "            \"minorHalfWidth\": null,\n",
      "            \"speedMeasuredAtHeight\": null,\n",
      "            \"submissionTime\": \"2013-08-07T16:54Z\",\n",
      "            \"link\": \"https://webtools.ccmc.gsfc.nasa.gov/DONKI/view/CMEAnalysis/2350/-1\",\n",
      "            \"enlilList\": [\n",
      "                {\n",
      "                    \"modelCompletionTime\": \"2013-05-01T08:32Z\",\n",
      "                    \"au\": 2.0,\n",
      "                    \"estimatedShockArrivalTime\": null,\n",
      "                    \"estimatedDuration\": null,\n",
      "                    \"rmin_re\": null,\n",
      "                    \"kp_18\": null,\n",
      "                    \"kp_90\": null,\n",
      "                    \"kp_135\": null,\n",
      "                    \"kp_180\": null,\n",
      "                    \"isEarthGB\": false,\n",
      "                    \"link\": \"https://webtools.ccmc.gsfc.nasa.gov/DONKI/view/WSA-ENLIL/2348/-1\",\n",
      "                    \"impactList\": [\n",
      "                        {\n",
      "                            \"isGlancingBlow\": false,\n",
      "                            \"location\": \"STEREO B\",\n",
      "                            \"arrivalTime\": \"2013-05-04T06:16Z\"\n",
      "                        }\n",
      "                    ],\n",
      "                    \"cmeIDs\": [\n",
      "                        \"2013-05-01T03:12:00-CME-001\"\n",
      "                    ]\n",
      "                }\n",
      "            ]\n",
      "        }\n",
      "    ],\n",
      "    \"linkedEvents\": [\n",
      "        {\n",
      "            \"activityID\": \"2013-05-04T04:52:00-IPS-001\"\n",
      "        }\n",
      "    ]\n",
      "}\n"
     ]
    }
   ],
   "source": [
    "# Preview ONLY the first element from the cme_json list you created in JSON format\n",
    "# Do NOT print out the entire list\n",
    "# Use json.dumps with argument indent=4 to format data\n",
    "cme_json_preview = json.dumps(cme_json[0], indent=4)\n",
    "print(cme_json_preview)"
   ]
  },
  {
   "cell_type": "code",
   "execution_count": 6,
   "id": "4a439910",
   "metadata": {},
   "outputs": [],
   "source": [
    "# Convert cme_json to a Pandas DataFrame\n",
    "cme_df = pd.DataFrame(cme_json)\n",
    "\n",
    "# Keep only the columns: activityID, startTime, linkedEvents\n",
    "cme_df = cme_df[[\"activityID\", \"startTime\", \"linkedEvents\"]]"
   ]
  },
  {
   "cell_type": "code",
   "execution_count": 7,
   "id": "364a0946",
   "metadata": {},
   "outputs": [],
   "source": [
    "# Notice that the linkedEvents column allows us to identify the corresponding GST\n",
    "# Remove rows with missing 'linkedEvents' since we won't be able to assign these to GSTs\n",
    "cme_df = cme_df[cme_df[\"linkedEvents\"].notnull()]"
   ]
  },
  {
   "cell_type": "markdown",
   "id": "3d9ed1ec",
   "metadata": {},
   "source": [
    "### Retrieve GST Data"
   ]
  },
  {
   "cell_type": "code",
   "execution_count": 8,
   "id": "c85b4dcc",
   "metadata": {},
   "outputs": [],
   "source": [
    "# Set the specifier for Geomagnetic Storms (GST):\n",
    "GST = \"GST\"\n",
    "\n",
    "# Build URL for GST\n",
    "gst_url = f\"{base_url}{GST}?startDate={startDate}&endDate={endDate}&api_key={NASA_API_KEY}\""
   ]
  },
  {
   "cell_type": "code",
   "execution_count": 9,
   "id": "bbff4d14",
   "metadata": {},
   "outputs": [],
   "source": [
    "# Make a \"GET\" request for the GST URL and store it in a variable named gst_response\n",
    "gst_response = requests.get(gst_url)"
   ]
  },
  {
   "cell_type": "code",
   "execution_count": 10,
   "id": "14c1c5d1",
   "metadata": {},
   "outputs": [],
   "source": [
    "# Convert the response variable to json and store it as a variable named gst_json\n",
    "gst_json = gst_response.json()"
   ]
  },
  {
   "cell_type": "code",
   "execution_count": 11,
   "id": "fc7ca37b",
   "metadata": {},
   "outputs": [
    {
     "name": "stdout",
     "output_type": "stream",
     "text": [
      "{\n",
      "    \"gstID\": \"2013-06-01T01:00:00-GST-001\",\n",
      "    \"startTime\": \"2013-06-01T01:00Z\",\n",
      "    \"allKpIndex\": [\n",
      "        {\n",
      "            \"observedTime\": \"2013-06-01T01:00Z\",\n",
      "            \"kpIndex\": 6.0,\n",
      "            \"source\": \"NOAA\"\n",
      "        }\n",
      "    ],\n",
      "    \"link\": \"https://webtools.ccmc.gsfc.nasa.gov/DONKI/view/GST/326/-1\",\n",
      "    \"linkedEvents\": [\n",
      "        {\n",
      "            \"activityID\": \"2013-05-31T15:45:00-HSS-001\"\n",
      "        }\n",
      "    ],\n",
      "    \"submissionTime\": \"2013-07-15T19:26Z\",\n",
      "    \"versionId\": 1\n",
      "}\n"
     ]
    }
   ],
   "source": [
    "# Preview ONLY the first element from the gst_json list you created in JSON format\n",
    "print(json.dumps(gst_json[0], indent=4))"
   ]
  },
  {
   "cell_type": "code",
   "execution_count": 12,
   "id": "e5df76b7",
   "metadata": {},
   "outputs": [],
   "source": [
    "# Convert gst_json to a Pandas DataFrame\n",
    "gst_df = pd.DataFrame(gst_json)\n",
    "\n",
    "# Keep only the columns: gstID, startTime, linkedEvents\n",
    "gst_df = gst_df[[\"gstID\", \"startTime\", \"linkedEvents\"]]"
   ]
  },
  {
   "cell_type": "markdown",
   "id": "def9044c",
   "metadata": {},
   "source": [
    "### Merge both datasets"
   ]
  },
  {
   "cell_type": "code",
   "execution_count": 14,
   "id": "0b4eadf0",
   "metadata": {},
   "outputs": [],
   "source": [
    "# Extract the first activityID from the linkedEvents column in gst_df\n",
    "gst_df[\"linkedActivityID\"] = gst_df[\"linkedEvents\"].apply(\n",
    "    lambda x: x[0][\"activityID\"] if isinstance(x, list) and len(x) > 0 else None\n",
    ")\n",
    "\n",
    "# Now merge both datasets using 'activityID' from cme_df and 'linkedActivityID' from gst_df\n",
    "merged_df = pd.merge(\n",
    "    cme_df, gst_df,\n",
    "    left_on=\"activityID\", right_on=\"linkedActivityID\",\n",
    "    how=\"inner\"\n",
    ")"
   ]
  },
  {
   "cell_type": "markdown",
   "id": "e230eb9c",
   "metadata": {},
   "source": [
    "### Computing the time it takes for a CME to cause a GST"
   ]
  },
  {
   "cell_type": "code",
   "execution_count": 15,
   "id": "95435799",
   "metadata": {},
   "outputs": [],
   "source": [
    "# Compute the time diff between startTime_GST and startTime_CME by creating a new column called `timeDiff`.\n",
    "merged_df[\"startTime_CME\"] = pd.to_datetime(merged_df[\"startTime_x\"])\n",
    "merged_df[\"startTime_GST\"] = pd.to_datetime(merged_df[\"startTime_y\"])\n",
    "merged_df[\"timeDiff\"] = merged_df[\"startTime_GST\"] - merged_df[\"startTime_CME\"]"
   ]
  },
  {
   "cell_type": "code",
   "execution_count": 16,
   "id": "2b12e84e",
   "metadata": {},
   "outputs": [
    {
     "name": "stdout",
     "output_type": "stream",
     "text": [
      "count                           48\n",
      "mean               3 days 01:31:55\n",
      "std      1 days 00:32:58.230543740\n",
      "min                1 days 08:36:00\n",
      "25%                2 days 05:53:00\n",
      "50%                2 days 20:44:30\n",
      "75%                3 days 18:51:00\n",
      "max                6 days 03:00:00\n",
      "Name: timeDiff, dtype: object\n"
     ]
    }
   ],
   "source": [
    "# Use describe() to compute the mean and median time \n",
    "# that it takes for a CME to cause a GST.\n",
    "print(merged_df[\"timeDiff\"].describe())"
   ]
  },
  {
   "cell_type": "markdown",
   "id": "5f1e5b7a",
   "metadata": {},
   "source": [
    "### Exporting data in csv format"
   ]
  },
  {
   "cell_type": "code",
   "execution_count": 17,
   "id": "1cd8d827",
   "metadata": {},
   "outputs": [],
   "source": [
    "# Export data to CSV without the index\n",
    "merged_df.to_csv(\"processed_cme_gst_data.csv\", index=False)"
   ]
  }
 ],
 "metadata": {
  "kernelspec": {
   "display_name": "base",
   "language": "python",
   "name": "python3"
  },
  "language_info": {
   "codemirror_mode": {
    "name": "ipython",
    "version": 3
   },
   "file_extension": ".py",
   "mimetype": "text/x-python",
   "name": "python",
   "nbconvert_exporter": "python",
   "pygments_lexer": "ipython3",
   "version": "3.12.7"
  }
 },
 "nbformat": 4,
 "nbformat_minor": 5
}
